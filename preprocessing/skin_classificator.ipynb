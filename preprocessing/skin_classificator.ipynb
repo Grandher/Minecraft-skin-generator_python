{
 "cells": [
  {
   "cell_type": "code",
   "execution_count": 1,
   "metadata": {},
   "outputs": [],
   "source": [
    "from PIL import Image\n",
    "import os\n",
    "import numpy as np\n",
    "\n",
    "def resize_and_pad(image_path, target_size=(64, 64), pad_color=(0, 0, 0, 0)):\n",
    "    img = Image.open(image_path)\n",
    "\n",
    "    if img.height < target_size[1]:\n",
    "        new_img = Image.new('RGBA', target_size, pad_color)\n",
    "\n",
    "        img_array = np.array(img.convert('RGBA'))\n",
    "        new_img_array = np.array(new_img)\n",
    "        alpha_channel = img_array[:, :, 3]\n",
    "\n",
    "        x_start = (target_size[0] - img.width) // 2\n",
    "        x_end = x_start + img.width\n",
    "        y_start = 0\n",
    "        y_end = img.height\n",
    "\n",
    "        new_img_array[y_start:y_end, x_start:x_end, :3] = img_array[:, :, :3]\n",
    "        new_img_array[y_start:y_end, x_start:x_end, 3] = alpha_channel\n",
    "\n",
    "        new_img = Image.fromarray(new_img_array, 'RGBA')\n",
    "        new_img.save(image_path, format='PNG')\n",
    "\n",
    "# Проходим по всем изображениям в папке\n",
    "folder_path = \"./bigdata/Skins/\"\n",
    "for filename in os.listdir(folder_path):\n",
    "    if filename.endswith(('.jpg', '.jpeg', '.png')):\n",
    "        file_path = os.path.join(folder_path, filename)\n",
    "        resize_and_pad(file_path)\n"
   ]
  },
  {
   "cell_type": "code",
   "execution_count": 2,
   "metadata": {},
   "outputs": [],
   "source": [
    "from PIL import Image, ImageEnhance, ImageOps\n",
    "from collections import Counter\n",
    "\n",
    "color_classes = {\n",
    "    (255, 0, 0): \"Красный\",\n",
    "    (255, 165, 0): \"Оранжевый\",\n",
    "    (255, 255, 0): \"Жёлтый\",\n",
    "    (0, 255, 0): \"Зелёный\",\n",
    "    (0, 0, 255): \"Синий\",\n",
    "    (75, 0, 130): \"Фиолетовый\",\n",
    "    (0, 0, 0): \"Черный\",\n",
    "    (255, 255, 255): \"Белый\",\n",
    "    (139, 69, 19): \"Коричневый\",\n",
    "    (255, 182, 193): \"Розовый\",\n",
    "    (128, 128, 128): \"Серый\",\n",
    "}"
   ]
  },
  {
   "cell_type": "code",
   "execution_count": 3,
   "metadata": {},
   "outputs": [],
   "source": [
    "def preprocess_image(image_path, posterize_bits=4, saturation_factor=2):\n",
    "    img = Image.open(image_path)\n",
    "    if img.mode != 'RGBA':\n",
    "        img = img.convert('RGBA')\n",
    "    \n",
    "    # Увеличиваем насыщенность\n",
    "    enhancer = ImageEnhance.Color(img)\n",
    "    img = enhancer.enhance(saturation_factor)\n",
    "    \n",
    "    # Постеризация для уменьшения числа цветов\n",
    "    img = posterize_image(img, posterize_bits)\n",
    "    \n",
    "    # Определение преобладающего цвета, пропуская прозрачные пиксели\n",
    "    pixels = [pixel[:3] for pixel in img.getdata() if pixel[3] != 0]\n",
    "    if pixels:\n",
    "        dominant_color = find_closest_color(Counter(pixels).most_common(1)[0][0])\n",
    "    else:\n",
    "        dominant_color = (0, 0, 0)  # Если все пиксели прозрачные, установим черный цвет\n",
    "    \n",
    "    return img, dominant_color\n",
    "\n",
    "def find_closest_color(target_color):\n",
    "    # Находим ближайший цвет из color_classes\n",
    "    closest_color = min(color_classes, key=lambda color: euclidean_distance(color, target_color))\n",
    "    return closest_color\n",
    "\n",
    "def euclidean_distance(color1, color2):\n",
    "    # Евклидово расстояние между двумя цветами\n",
    "    return ((color1[0] - color2[0])**2 + (color1[1] - color2[1])**2 + (color1[2] - color2[2])**2)**0.5\n",
    "\n",
    "def posterize_image(img, bits):\n",
    "    # Реализация альтернативной posterize для изображений RGBA\n",
    "    data = img.getdata()\n",
    "    posterized_data = [(int(r // (256 / bits)) * (256 // bits),\n",
    "                        int(g // (256 / bits)) * (256 // bits),\n",
    "                        int(b // (256 / bits)) * (256 // bits),\n",
    "                        a) for r, g, b, a in data]\n",
    "    posterized_img = Image.new('RGBA', img.size)\n",
    "    posterized_img.putdata(posterized_data)\n",
    "    return posterized_img\n",
    "\n",
    "def resize_and_pad(image_path, target_size=(64, 64), pad_color=(0, 0, 0, 0)):\n",
    "    img, dominant_color = preprocess_image(image_path)\n",
    "    \n",
    "    # Получение класса изображения по ближайшему цвету\n",
    "    image_class = color_classes.get(dominant_color, \"Неизвестный\")\n",
    "    \n",
    "    img = ImageOps.fit(img, target_size, Image.LANCZOS, 0, (0.5, 0.5))\n",
    "    img = ImageOps.expand(img, border=(0, 0, target_size[0] - img.width, target_size[1] - img.height), fill=pad_color)\n",
    "    \n",
    "    return img, image_class"
   ]
  },
  {
   "cell_type": "code",
   "execution_count": 35,
   "metadata": {},
   "outputs": [
    {
     "name": "stdout",
     "output_type": "stream",
     "text": [
      "Класс изображения: Розовый\n"
     ]
    }
   ],
   "source": [
    "# Пример использования:\n",
    "image_path = \"./tskins/10.jpg\"\n",
    "resized_image, image_class = resize_and_pad(image_path)\n",
    "print(f\"Класс изображения: {image_class}\")\n",
    "resized_image.show()"
   ]
  },
  {
   "cell_type": "code",
   "execution_count": 4,
   "metadata": {},
   "outputs": [],
   "source": [
    "import os\n",
    "from shutil import move\n",
    "\n",
    "def process_and_move_images(image_folder):\n",
    "    for filename in os.listdir(image_folder):\n",
    "        if filename.endswith(('.png', '.jpg', '.jpeg')):\n",
    "            image_path = os.path.join(image_folder, filename)\n",
    "            _, image_class = resize_and_pad(image_path)\n",
    "\n",
    "            # Создаем подкаталог, если его еще нет\n",
    "            class_folder = os.path.join(image_folder, image_class)\n",
    "            os.makedirs(class_folder, exist_ok=True)\n",
    "\n",
    "            # Перемещаем изображение в соответствующий подкаталог\n",
    "            destination_path = os.path.join(class_folder, filename)\n",
    "            move(image_path, destination_path)\n",
    "\n",
    "# Пример использования:\n",
    "image_folder = \"./bigdata/Skins/\"\n",
    "process_and_move_images(image_folder)\n"
   ]
  }
 ],
 "metadata": {
  "kernelspec": {
   "display_name": "Python 3",
   "language": "python",
   "name": "python3"
  },
  "language_info": {
   "codemirror_mode": {
    "name": "ipython",
    "version": 3
   },
   "file_extension": ".py",
   "mimetype": "text/x-python",
   "name": "python",
   "nbconvert_exporter": "python",
   "pygments_lexer": "ipython3",
   "version": "3.11.4"
  }
 },
 "nbformat": 4,
 "nbformat_minor": 2
}
